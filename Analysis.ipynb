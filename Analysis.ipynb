{
 "cells": [
  {
   "cell_type": "code",
   "execution_count": 1,
   "metadata": {},
   "outputs": [
    {
     "name": "stdout",
     "output_type": "stream",
     "text": [
      "Sl. No                    0\n",
      "Patient File No.          0\n",
      "PCOS (Y/N)                0\n",
      " Age (yrs)                0\n",
      "Weight (Kg)               0\n",
      "Height(Cm)                0\n",
      "BMI                       0\n",
      "Blood Group               0\n",
      "Pulse rate(bpm)           0\n",
      "RR (breaths/min)          0\n",
      "Hb(g/dl)                  0\n",
      "Cycle(R/I)                0\n",
      "Cycle length(days)        0\n",
      "Marraige Status (Yrs)     3\n",
      "Pregnant(Y/N)             0\n",
      "No. of abortions          0\n",
      "  I   beta-HCG(mIU/mL)    0\n",
      "II    beta-HCG(mIU/mL)    0\n",
      "FSH(mIU/mL)               0\n",
      "LH(mIU/mL)                0\n",
      "FSH/LH                    0\n",
      "Hip(inch)                 0\n",
      "Waist(inch)               0\n",
      "Waist:Hip Ratio           0\n",
      "TSH (mIU/L)               0\n",
      "AMH(ng/mL)                0\n",
      "PRL(ng/mL)                0\n",
      "Vit D3 (ng/mL)            0\n",
      "PRG(ng/mL)                0\n",
      "RBS(mg/dl)                0\n",
      "Weight gain(Y/N)          0\n",
      "hair growth(Y/N)          0\n",
      "Skin darkening (Y/N)      0\n",
      "Hair loss(Y/N)            0\n",
      "Pimples(Y/N)              0\n",
      "Fast food (Y/N)           0\n",
      "Reg.Exercise(Y/N)         0\n",
      "BP _Systolic (mmHg)       0\n",
      "BP _Diastolic (mmHg)      0\n",
      "Follicle No. (L)          0\n",
      "Follicle No. (R)          0\n",
      "Avg. F size (L) (mm)      0\n",
      "Avg. F size (R) (mm)      0\n",
      "Endometrium (mm)          0\n",
      "dtype: int64\n"
     ]
    }
   ],
   "source": [
    "\n",
    "import pandas as pd \n",
    "df = pd.read_csv(\"PCOS_extended_dataset.csv\")\n",
    "print(df.isnull().sum())"
   ]
  },
  {
   "cell_type": "code",
   "execution_count": 2,
   "metadata": {},
   "outputs": [
    {
     "name": "stdout",
     "output_type": "stream",
     "text": [
      "Data types after conversion:\n",
      "Sl. No                       int64\n",
      "Patient File No.             int64\n",
      "PCOS (Y/N)                category\n",
      " Age (yrs)                   int64\n",
      "Weight (Kg)                float64\n",
      "Height(Cm)                 float64\n",
      "BMI                        float64\n",
      "Blood Group               category\n",
      "Pulse rate(bpm)              int64\n",
      "RR (breaths/min)             int64\n",
      "Hb(g/dl)                   float64\n",
      "Cycle(R/I)                category\n",
      "Cycle length(days)           int64\n",
      "Marraige Status (Yrs)      float64\n",
      "Pregnant(Y/N)             category\n",
      "No. of abortions             int64\n",
      "  I   beta-HCG(mIU/mL)     float64\n",
      "II    beta-HCG(mIU/mL)      object\n",
      "FSH(mIU/mL)                float64\n",
      "LH(mIU/mL)                 float64\n",
      "FSH/LH                     float64\n",
      "Hip(inch)                    int64\n",
      "Waist(inch)                  int64\n",
      "Waist:Hip Ratio            float64\n",
      "TSH (mIU/L)                float64\n",
      "AMH(ng/mL)                  object\n",
      "PRL(ng/mL)                 float64\n",
      "Vit D3 (ng/mL)             float64\n",
      "PRG(ng/mL)                 float64\n",
      "RBS(mg/dl)                 float64\n",
      "Weight gain(Y/N)          category\n",
      "hair growth(Y/N)          category\n",
      "Skin darkening (Y/N)      category\n",
      "Hair loss(Y/N)            category\n",
      "Pimples(Y/N)              category\n",
      "Fast food (Y/N)           category\n",
      "Reg.Exercise(Y/N)         category\n",
      "BP _Systolic (mmHg)        float64\n",
      "BP _Diastolic (mmHg)       float64\n",
      "Follicle No. (L)             int64\n",
      "Follicle No. (R)             int64\n",
      "Avg. F size (L) (mm)       float64\n",
      "Avg. F size (R) (mm)       float64\n",
      "Endometrium (mm)           float64\n",
      "dtype: object\n"
     ]
    }
   ],
   "source": [
    "df['Marraige Status (Yrs)'] = df['Marraige Status (Yrs)'].fillna(df['Marraige Status (Yrs)'].mean())\n",
    "#print(df.isnull().sum())\n",
    "columns_to_convert = [\n",
    "    'PCOS (Y/N)', 'Blood Group', 'Cycle(R/I)', 'Pregnant(Y/N)', 'Weight gain(Y/N)', \n",
    "    'hair growth(Y/N)', 'Skin darkening (Y/N)', 'Hair loss(Y/N)', \n",
    "    'Pimples(Y/N)', 'Fast food (Y/N)', 'Reg.Exercise(Y/N)'\n",
    "]\n",
    "\n",
    "# Convert the columns to categorical\n",
    "for col in columns_to_convert:\n",
    "    df[col] = df[col].astype('category')\n",
    "\n",
    "# Verify the data types\n",
    "print(\"Data types after conversion:\")\n",
    "print(df.dtypes)\n",
    "\n",
    "\n"
   ]
  },
  {
   "cell_type": "code",
   "execution_count": 7,
   "metadata": {},
   "outputs": [
    {
     "name": "stdout",
     "output_type": "stream",
     "text": [
      "Specified columns dropped successfully!\n",
      "Index(['PCOS (Y/N)', ' Age (yrs)', 'Weight (Kg)', 'Height(Cm) ', 'BMI',\n",
      "       'Blood Group', 'Pulse rate(bpm) ', 'RR (breaths/min)', 'Cycle(R/I)',\n",
      "       'Cycle length(days)', 'Marraige Status (Yrs)', 'Pregnant(Y/N)',\n",
      "       'Weight gain(Y/N)', 'hair growth(Y/N)', 'Skin darkening (Y/N)',\n",
      "       'Hair loss(Y/N)', 'Pimples(Y/N)', 'Fast food (Y/N)',\n",
      "       'Reg.Exercise(Y/N)', 'Avg. F size (L) (mm)', 'Avg. F size (R) (mm)'],\n",
      "      dtype='object')\n"
     ]
    },
    {
     "data": {
      "text/plain": [
       "<function print(*args, sep=' ', end='\\n', file=None, flush=False)>"
      ]
     },
     "execution_count": 7,
     "metadata": {},
     "output_type": "execute_result"
    }
   ],
   "source": [
    "# List of columns to drop\n",
    "columns_to_drop = [\n",
    "    'BP _Systolic (mmHg)', 'BP _Diastolic (mmHg)', 'Follicle No. (L)',\n",
    "    'Follicle No. (R)', \n",
    "    'Endometrium (mm)', 'No. of abortions', '  I   beta-HCG(mIU/mL)',\n",
    "    'II    beta-HCG(mIU/mL)', 'FSH(mIU/mL)', 'LH(mIU/mL)', 'FSH/LH',\n",
    "    'Hip(inch)', 'Waist(inch)', 'Waist:Hip Ratio', 'TSH (mIU/L)',\n",
    "    'AMH(ng/mL)', 'PRL(ng/mL)', 'Vit D3 (ng/mL)', 'PRG(ng/mL)', 'RBS(mg/dl)',\n",
    "    'Sl. No', 'Patient File No.', 'Hb(g/dl)']\n",
    "\n",
    "# Drop the specified columns\n",
    "#df_cleaned = df.drop(columns=columns_to_drop, inplace=True)\n",
    "\n",
    "# Display the first few rows of the updated DataFrame\n",
    "print(\"Specified columns dropped successfully!\")\n",
    "print(df.columns)\n",
    "print\n"
   ]
  },
  {
   "cell_type": "code",
   "execution_count": 8,
   "metadata": {},
   "outputs": [
    {
     "ename": "AttributeError",
     "evalue": "'NoneType' object has no attribute 'drop'",
     "output_type": "error",
     "traceback": [
      "\u001b[1;31m---------------------------------------------------------------------------\u001b[0m",
      "\u001b[1;31mAttributeError\u001b[0m                            Traceback (most recent call last)",
      "Cell \u001b[1;32mIn[8], line 2\u001b[0m\n\u001b[0;32m      1\u001b[0m \u001b[38;5;66;03m# Re-assign the DataFrame\u001b[39;00m\n\u001b[1;32m----> 2\u001b[0m df_cleaned \u001b[38;5;241m=\u001b[39m \u001b[43mdf_cleaned\u001b[49m\u001b[38;5;241;43m.\u001b[39;49m\u001b[43mdrop\u001b[49m(columns\u001b[38;5;241m=\u001b[39m[\u001b[38;5;124m'\u001b[39m\u001b[38;5;124mAvg. F size (L) (mm)\u001b[39m\u001b[38;5;124m'\u001b[39m, \u001b[38;5;124m'\u001b[39m\u001b[38;5;124mAvg. F size (R) (mm)\u001b[39m\u001b[38;5;124m'\u001b[39m])\n\u001b[0;32m      4\u001b[0m \u001b[38;5;66;03m# Display the updated DataFrame\u001b[39;00m\n\u001b[0;32m      5\u001b[0m \u001b[38;5;28mprint\u001b[39m(\u001b[38;5;124m\"\u001b[39m\u001b[38;5;124mUpdated DataFrame:\u001b[39m\u001b[38;5;124m\"\u001b[39m)\n",
      "\u001b[1;31mAttributeError\u001b[0m: 'NoneType' object has no attribute 'drop'"
     ]
    }
   ],
   "source": [
    "# Re-assign the DataFrame\n",
    "df_cleaned = df_cleaned.drop(columns=['Avg. F size (L) (mm)', 'Avg. F size (R) (mm)'])\n",
    "\n",
    "# Display the updated DataFrame\n",
    "print(\"Updated DataFrame:\")\n",
    "print(df_cleaned.head())\n"
   ]
  }
 ],
 "metadata": {
  "kernelspec": {
   "display_name": "Python 3",
   "language": "python",
   "name": "python3"
  },
  "language_info": {
   "codemirror_mode": {
    "name": "ipython",
    "version": 3
   },
   "file_extension": ".py",
   "mimetype": "text/x-python",
   "name": "python",
   "nbconvert_exporter": "python",
   "pygments_lexer": "ipython3",
   "version": "3.13.0"
  }
 },
 "nbformat": 4,
 "nbformat_minor": 2
}
